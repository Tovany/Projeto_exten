{
 "cells": [
  {
   "cell_type": "markdown",
   "metadata": {},
   "source": [
    "<h1> <b>Funções e Classes no python </b> </h1>\n",
    "<hr>\n",
    "<hr>"
   ]
  },
  {
   "cell_type": "markdown",
   "metadata": {},
   "source": [
    "<h2><b>Funções</b></h2>\n",
    "<hr>"
   ]
  },
  {
   "cell_type": "markdown",
   "metadata": {},
   "source": [
    "<p> <i>Funções</i> são blocos de código reutilizáveis que realizam uma tarefa específica. Elas ajudam a dividir um programa em partes menores e mais gerenciáveis, facilitando a manutenção e a legibilidade do código.<br>\n",
    "Para definir uma função em python, usa-se a palavra-chave <code>def</code>, seguida pelo nome da função e um par de parênteses que podem conter <u>parâmetros.</p>\n",
    "\n",
    "<h3>Exemplo:</h3>"
   ]
  },
  {
   "cell_type": "code",
   "execution_count": 10,
   "metadata": {},
   "outputs": [],
   "source": [
    "def Soma(parametro_1, parametro_2): # Pode não precisar dos parâmetros\n",
    "    somando = parametro_1 + parametro_2\n",
    "    return somando"
   ]
  },
  {
   "cell_type": "markdown",
   "metadata": {},
   "source": [
    "<p>Onde os elementos são:</p>\n",
    "<ul>\n",
    "    <li><b>def:</b></li>\n",
    "        <dd> Palavra-chave usada para definir uma função;</dd><br>\n",
    "    <li><b>Soma:</b></li>\n",
    "        <dd> Nome escolhido para a função;</dd><br>\n",
    "    <li><b>parametro_1,parametro_2 :</b></li>\n",
    "        <dd> Parametros <i>(opcionais)</i> que a função pode receber;</dd><br>\n",
    "    <li><b>return:</b></li>\n",
    "        <dd> Palavra chave usada para retirna o valor da função.</dd>\n",
    "</ul>"
   ]
  },
  {
   "cell_type": "markdown",
   "metadata": {},
   "source": [
    "<hr>\n",
    "<h2><b>Chamando as funções</b></h2>\n",
    "<p>Para chamar uma função, você usa o nome da função seguido de um parênteses, passando os argumentos necessários (se tiver)</p>"
   ]
  },
  {
   "cell_type": "code",
   "execution_count": 9,
   "metadata": {},
   "outputs": [
    {
     "name": "stdout",
     "output_type": "stream",
     "text": [
      "o resultado da soma é: 2\n"
     ]
    }
   ],
   "source": [
    "resultado = Soma(1,1)\n",
    "print(f\"o resultado da soma é: {resultado}\")"
   ]
  },
  {
   "cell_type": "markdown",
   "metadata": {},
   "source": [
    "<p>Mas, e as funções sem parâmetros? como faz?</p>\n",
    "<img src=\"https://i.pinimg.com/736x/06/8a/3b/068a3bf3df181521a50a4a23f90b97f2.jpg\" width=\"200px\">"
   ]
  },
  {
   "cell_type": "markdown",
   "metadata": {},
   "source": [
    "<hr>\n",
    "<h3> <strong>Funções sem parâmetros</strong></h3>\n",
    "<p>Por que usar funções sem parametros?</p>\n",
    "\n",
    "<ul>\n",
    "    <li> <b>Tarefas independetes:</b></li>\n",
    "        <dd>Funções sem parâmetros são ideais para taredas que não dependem de valores externos para serem executadas;</dd><br>\n",
    "    <li> <b>Código reutilizável:</b></li>\n",
    "        <dd> Elas permitem reutilizar o mesmo bloco de código em diferentes partes do programa, sempre que a tarefa específica precisa ser realizada.</dd><br>\n",
    "    <li> <b>Clareza e Organização:</b></li> \n",
    "        <dd>Dividir o código em funções sem parâmetros pode tornar o programa mais organizado e fácil de ler. Cada função pode ser responsável por uma única tarefa, facilitando a depuração e manutenção.</dd><br>\n",
    "</ul>"
   ]
  },
  {
   "cell_type": "code",
   "execution_count": 22,
   "metadata": {},
   "outputs": [
    {
     "name": "stdout",
     "output_type": "stream",
     "text": [
      "A soma dos números de 1 a 100 é: 5050\n"
     ]
    }
   ],
   "source": [
    "def calcular_soma():\n",
    "    soma = 0\n",
    "    for i in range(1, 101):\n",
    "        soma += i\n",
    "    print(f\"A soma dos números de 1 a 100 é: {soma}\")\n",
    "\n",
    "# Chamando a função\n",
    "calcular_soma()"
   ]
  },
  {
   "cell_type": "markdown",
   "metadata": {},
   "source": [
    "<hr>\n",
    "<hr>"
   ]
  },
  {
   "cell_type": "markdown",
   "metadata": {},
   "source": [
    "<h2><b>Classes</b></h2>\n",
    "<hr>"
   ]
  },
  {
   "cell_type": "markdown",
   "metadata": {},
   "source": [
    "<p>Classes são um dos principais conceitos da programação orientada a objetos (POO). Elas permitem a criação de estruturas de dados customizadas que podem incluir dados (atributos) e comportamento (métodos). Em Python, classes proporcionam uma maneira de combinar dados e funcionalidades em um único bloco de código.<br>\n",
    "Uma classe em Python é definida usando a palavra-chave <code>class</code> seguida do <u>nome da classe</u> e dois pontos. Dentro do corpo da classe, você pode definir <b>métodos</b> <i>(funções)</i> e <b>atributos</b> <i>(variáveis).</i>\n",
    "</p>"
   ]
  },
  {
   "cell_type": "code",
   "execution_count": 23,
   "metadata": {},
   "outputs": [],
   "source": [
    "class Pessoa:\n",
    "    def __init__(self, nome, idade):\n",
    "        self.nome = nome\n",
    "        self.idade = idade\n",
    "    \n",
    "    def apresentar(self):\n",
    "        print(f\"Olá, meu nome é {self.nome} e eu tenho {self.idade} anos.\")"
   ]
  },
  {
   "cell_type": "markdown",
   "metadata": {},
   "source": [
    "<p> Onde os elementos são:</p>\n",
    "<ul>\n",
    "    <li><b><code>Class</code> Pessoa:</b></li>\n",
    "        <dd>Define uma nova classe chamada <i>Pessoa</i>;</dd><br>\n",
    "    <li><b><code>def __init__(self, nome, idade):</code> </b></li>\n",
    "        <dd>Define o método inicializador, conhecido como construtor. Este método é chamado quando uma nova instância da classe é criada. O parâmetro self refere-se à instância atual da classe;\n",
    "</dd><br>\n",
    "    <li><b><code>self.nome = nome</code> </b> e <code>self.nome = idade</code></li>\n",
    "        <dd>Define o método inicializador, conhecido como construtor. Este método é chamado quando uma nova instância da classe é criada. O parâmetro self refere-se à instância atual da classe;\n",
    "</dd><br>\n",
    "    <li><b><code>def apresentar(self)</code></li>\n",
    "        <dd>Define o método chamado <code>apresentar</code> que imprimi uma mensagem apresentando a pessoa.</dd><br>\n",
    "</ul>"
   ]
  }
 ],
 "metadata": {
  "kernelspec": {
   "display_name": "Projeto-ext",
   "language": "python",
   "name": "python3"
  },
  "language_info": {
   "codemirror_mode": {
    "name": "ipython",
    "version": 3
   },
   "file_extension": ".py",
   "mimetype": "text/x-python",
   "name": "python",
   "nbconvert_exporter": "python",
   "pygments_lexer": "ipython3",
   "version": "3.12.4"
  }
 },
 "nbformat": 4,
 "nbformat_minor": 2
}
