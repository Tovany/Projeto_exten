{
 "cells": [
  {
   "cell_type": "markdown",
   "metadata": {},
   "source": [
    "<h1> <b>Funções e Modularização em python</b></h1>\n",
    "<hr>"
   ]
  },
  {
   "cell_type": "markdown",
   "metadata": {},
   "source": [
    "<h2><b>O que são funções?</b></h2>\n",
    "<p> Funções são blocos de código reutilizáveis que realizam uma tarefa específica. Elas ajudam a dividir um programa em partes menores e mais gerenciáveis, facilitando a manutenção e a legibilidade do código.<br>\n",
    "Para definir uma função em python, usa-se a palavra-chave <code>def</code>, seguida pelo nome da função e um par de parênteses que podem conter <u>parâmetros.</p>\n",
    "\n",
    "<h3>Exemplo:</h3>"
   ]
  },
  {
   "cell_type": "code",
   "execution_count": 10,
   "metadata": {},
   "outputs": [],
   "source": [
    "def Soma(parametro_1, parametro_2): # Pode não precisar dos parâmetros\n",
    "    somando = parametro_1 + parametro_2\n",
    "    return somando"
   ]
  },
  {
   "cell_type": "markdown",
   "metadata": {},
   "source": [
    "<p>Onde os elementos são:</p>\n",
    "<ul>\n",
    "    <li><b>def:</b></li>\n",
    "        <dd> Palavra-chave usada para definir uma função;</dd><br>\n",
    "    <li><b>Soma:</b></li>\n",
    "        <dd> Nome escolhido para a função;</dd><br>\n",
    "    <li><b>parametro_1,parametro_2 :</b></li>\n",
    "        <dd> Parametros <i>(opcionais)</i> que a função pode receber;</dd><br>\n",
    "    <li><b>return:</b></li>\n",
    "        <dd> Palavra chave usada para retirna o valor da função.</dd>\n",
    "</ul>"
   ]
  },
  {
   "cell_type": "markdown",
   "metadata": {},
   "source": [
    "<hr>\n",
    "<h2><b>Chamando as funções</b></h2>\n",
    "<p>Para chamar uma função, você usa o nome da função seguido de um parênteses, passando os argumentos necessários (se tiver)</p>"
   ]
  },
  {
   "cell_type": "code",
   "execution_count": 9,
   "metadata": {},
   "outputs": [
    {
     "name": "stdout",
     "output_type": "stream",
     "text": [
      "o resultado da soma é: 2\n"
     ]
    }
   ],
   "source": [
    "resultado = Soma(1,1)\n",
    "print(f\"o resultado da soma é: {resultado}\")"
   ]
  },
  {
   "cell_type": "markdown",
   "metadata": {},
   "source": [
    "<p>Mas, e as funções sem parâmetros? como faz?</o>\n",
    "<img src=\"https://i.pinimg.com/736x/06/8a/3b/068a3bf3df181521a50a4a23f90b97f2.jpg\" width=\"200px\">"
   ]
  }
 ],
 "metadata": {
  "kernelspec": {
   "display_name": "Projeto-ext",
   "language": "python",
   "name": "python3"
  },
  "language_info": {
   "codemirror_mode": {
    "name": "ipython",
    "version": 3
   },
   "file_extension": ".py",
   "mimetype": "text/x-python",
   "name": "python",
   "nbconvert_exporter": "python",
   "pygments_lexer": "ipython3",
   "version": "3.12.4"
  }
 },
 "nbformat": 4,
 "nbformat_minor": 2
}
