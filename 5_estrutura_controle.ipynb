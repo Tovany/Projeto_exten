{
 "cells": [
  {
   "cell_type": "markdown",
   "metadata": {},
   "source": [
    "<h1> <b> Estruturas de controle"
   ]
  },
  {
   "cell_type": "markdown",
   "metadata": {},
   "source": [
    "<hr>"
   ]
  },
  {
   "cell_type": "markdown",
   "metadata": {},
   "source": [
    "<p> As estruturas de controle em Python são essenciais para a construção de programas que executam fluxos de trabalho complexos. Elas permitem a execução condicional de blocos de código, repetição de tarefas e tomada de decisões.</p>"
   ]
  },
  {
   "cell_type": "markdown",
   "metadata": {},
   "source": [
    "<hr>"
   ]
  },
  {
   "cell_type": "markdown",
   "metadata": {},
   "source": [
    "<b><h2>Tipos de estruturas de controle</h2>"
   ]
  },
  {
   "cell_type": "markdown",
   "metadata": {},
   "source": [
    "<h3> <b> <i>1. Condicionais </h3>"
   ]
  },
  {
   "cell_type": "markdown",
   "metadata": {},
   "source": [
    "<p>As estruturas condicionais permitem que o programa execute certos blocos de código <u>apenas se determinadas condições forem atendidas.</u></p>\n",
    "<br>\n",
    "<p> As estruturas condicionais são: </p>\n",
    "\n",
    "<ul>\n",
    "    <li> <b> if </b></li>\n",
    "        <dd> Executa um bloco de código se uma condição for verdadeira.</dd>\n",
    "\n",
    "</ul>"
   ]
  },
  {
   "cell_type": "code",
   "execution_count": 3,
   "metadata": {},
   "outputs": [
    {
     "name": "stdout",
     "output_type": "stream",
     "text": [
      "O valor é menor que 10\n"
     ]
    }
   ],
   "source": [
    "x = 5;\n",
    "\n",
    "if x < 10:\n",
    "    print(\"O valor é menor que 10\")"
   ]
  },
  {
   "cell_type": "markdown",
   "metadata": {},
   "source": [
    "<hr>"
   ]
  },
  {
   "cell_type": "markdown",
   "metadata": {},
   "source": [
    "<ul>\n",
    "    <li> <b> elif </b> e <b> else </b></li>\n",
    "        <dd> Para <i>elif</i> Adiciona condições adicionais que são verificadas se a condição anterior foi falsa.</dd>\n",
    "        <dd> Para <i>else</i>  Executa um bloco de código se nenhuma das condições anteriores for verdadeira.</dd>\n",
    "        <dd> Muito usado com junto com o <i>if</i></dd>\n",
    "</ul>"
   ]
  },
  {
   "cell_type": "code",
   "execution_count": 13,
   "metadata": {},
   "outputs": [
    {
     "name": "stdout",
     "output_type": "stream",
     "text": [
      "O valor é 0\n"
     ]
    }
   ],
   "source": [
    "x = 0\n",
    "\n",
    "if x == 0:\n",
    "    print(\"O valor é 0\")\n",
    "    \n",
    "elif x > 0:\n",
    "    print(\"O valor é positivo\")\n",
    "\n",
    "else:\n",
    "    print(\"O valor é negativo\")"
   ]
  },
  {
   "cell_type": "code",
   "execution_count": null,
   "metadata": {},
   "outputs": [],
   "source": []
  }
 ],
 "metadata": {
  "kernelspec": {
   "display_name": "Projeto-ext",
   "language": "python",
   "name": "python3"
  },
  "language_info": {
   "codemirror_mode": {
    "name": "ipython",
    "version": 3
   },
   "file_extension": ".py",
   "mimetype": "text/x-python",
   "name": "python",
   "nbconvert_exporter": "python",
   "pygments_lexer": "ipython3",
   "version": "3.12.4"
  }
 },
 "nbformat": 4,
 "nbformat_minor": 2
}
