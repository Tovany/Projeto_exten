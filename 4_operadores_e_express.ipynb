{
 "cells": [
  {
   "cell_type": "markdown",
   "metadata": {},
   "source": [
    "<h1> <b>Operadores e expressões em python"
   ]
  },
  {
   "cell_type": "markdown",
   "metadata": {},
   "source": [
    "<hr>"
   ]
  },
  {
   "cell_type": "markdown",
   "metadata": {},
   "source": [
    "<p1> Em Python, operadores e expressões são utilizados para realizar operações sobre variáveis e valores. Os operadores permitem manipular dados de diferentes formas, enquanto as expressões combinam valores, variáveis e operadores para produzir novos valores."
   ]
  },
  {
   "cell_type": "markdown",
   "metadata": {},
   "source": [
    "<h2> <b>Tipos de operadores:"
   ]
  },
  {
   "cell_type": "markdown",
   "metadata": {},
   "source": [
    "<hr>"
   ]
  },
  {
   "cell_type": "markdown",
   "metadata": {},
   "source": [
    " <b><h3> <i> 1. Aritiméticos"
   ]
  },
  {
   "cell_type": "markdown",
   "metadata": {},
   "source": [
    "<ol>\n",
    "\n",
    "<li>Soma \"+\"</li><br>\n",
    "<blockquote>\n",
    "    1 + 1 = 2\n",
    "</blockquote>\n",
    "<br>\n",
    "\n",
    "<li>Subtração \"-\"</li><br>\n",
    "<blockquote>\n",
    "    1 - 1 = 0\n",
    "</blockquote>\n",
    "\n",
    "<br>\n",
    "\n",
    "<li> Divisão \"/\"</li> <br>\n",
    "<blockquote>\n",
    "    1 / 2 = 0.5\n",
    "</blockquote>\n",
    "\n",
    "<br>\n",
    "\n",
    "<li> Multiplicação \"*\"</li> <br>\n",
    "<blockquote>\n",
    "    2 * 2 = 4\n",
    "</blockquote>\n",
    "\n",
    "<br>\n",
    "\n",
    "<li> Potencia ou exponencial \"**\"</li> <br>\n",
    "<blockquote>\n",
    "    2 ** 2 = 8\n",
    "</blockquote>\n",
    "\n",
    "<br>\n",
    "\n",
    "\n",
    "<li> Resto da divisão <i>\"%\"</li> <br>\n",
    "\n",
    "<blockquote>\n",
    "    2 % 2 = 0\n",
    "    2 % 3 = 1\n",
    "</blockquote>\n",
    "</ol>\n",
    "\n",
    "<hr>"
   ]
  },
  {
   "cell_type": "markdown",
   "metadata": {},
   "source": [
    " <b><h3> <i> 2. Comparação"
   ]
  },
  {
   "cell_type": "markdown",
   "metadata": {},
   "source": [
    "<ul>\n",
    "<li> Igual a \"==\"</li><br>\n",
    "    <blockquote>\n",
    "        1 + 1 == 2 <br>\n",
    "        valeria == Valeria\n",
    "    </blockquote>\n",
    "        <p> Qual o valor que sairá se colocar assim:</p>\n",
    "</ul>"
   ]
  },
  {
   "cell_type": "code",
   "execution_count": null,
   "metadata": {},
   "outputs": [],
   "source": [
    "valor = 1\n",
    "print(valor == False)"
   ]
  },
  {
   "cell_type": "markdown",
   "metadata": {},
   "source": [
    "<ul>\n",
    "<li> Diferente de \"!=\"</li> <br>\n",
    "<blockquote>\n",
    "   (2/2) != 1? \n",
    "</blockquote><br>\n",
    "\n",
    "\n",
    "<li> Maior e Menor que  \">\" e \"<\"</li> <br>\n",
    "\n",
    "<blockquote>\n",
    "   2 > 2? <br>\n",
    "   5 < 6\n",
    "\n",
    "</blockquote> <br>\n",
    "\n",
    "\n",
    "<li> Maior igual e Menor igual a  \">=\" e \"<=\"</li> <br>\n",
    "\n",
    "<blockquote>\n",
    "   2 >= 2? <br>\n",
    "   5 <= 6\n",
    "\n",
    "</blockquote>\n",
    "\n",
    "</ul>\n",
    "\n",
    "<hr>"
   ]
  },
  {
   "cell_type": "markdown",
   "metadata": {},
   "source": [
    " <b><h3> <i> 3. Lógicos"
   ]
  },
  {
   "cell_type": "markdown",
   "metadata": {},
   "source": [
    "<ul>\n",
    "<li> \"and\"</li>\n",
    "<p> Retorna True se ambas as expressões forem verdadeiras </p>\n",
    "</ul>"
   ]
  },
  {
   "cell_type": "code",
   "execution_count": null,
   "metadata": {},
   "outputs": [],
   "source": [
    "estudar  = True\n",
    "todo_dia = True\n",
    "\n",
    "if (estudar == True) and (todo_dia == True ):\n",
    "    print(\"Sou muito estudante\")\n",
    "else:\n",
    "    print(\"Eu tenho preguiça, mas eu tento\")"
   ]
  },
  {
   "cell_type": "markdown",
   "metadata": {},
   "source": [
    "<ul>\n",
    "<li> \"or\"</li>\n",
    "<p>Retorna True se pelo menos uma das expressões for verdadeira. </p>\n",
    "</ul>"
   ]
  },
  {
   "cell_type": "code",
   "execution_count": null,
   "metadata": {},
   "outputs": [],
   "source": [
    "musculação = True\n",
    "cardio     = True\n",
    "\n",
    "if (musculação == True) or (cardio == False):\n",
    "    print('Eu vou emagrecer de qualquer forma')"
   ]
  },
  {
   "cell_type": "markdown",
   "metadata": {},
   "source": [
    "<ul>\n",
    "<li> \"not\"</li>\n",
    "<p>Inverte o valor lógico de uma expressão. </p>\n",
    "</ul>"
   ]
  },
  {
   "cell_type": "code",
   "execution_count": null,
   "metadata": {},
   "outputs": [],
   "source": [
    "# Verificando se uma lista está vazia\n",
    "lista = []\n",
    "\n",
    "if not lista:\n",
    "    print(\"A lista está vazia.\")\n",
    "else:\n",
    "    print(\"A lista não está vazia.\")"
   ]
  }
 ],
 "metadata": {
  "kernelspec": {
   "display_name": "Projeto-ext",
   "language": "python",
   "name": "python3"
  },
  "language_info": {
   "codemirror_mode": {
    "name": "ipython",
    "version": 3
   },
   "file_extension": ".py",
   "mimetype": "text/x-python",
   "name": "python",
   "nbconvert_exporter": "python",
   "pygments_lexer": "ipython3",
   "version": "3.12.4"
  }
 },
 "nbformat": 4,
 "nbformat_minor": 2
}
